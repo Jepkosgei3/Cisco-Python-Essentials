{
  "nbformat": 4,
  "nbformat_minor": 0,
  "metadata": {
    "colab": {
      "provenance": []
    },
    "kernelspec": {
      "name": "python3",
      "display_name": "Python 3"
    },
    "language_info": {
      "name": "python"
    }
  },
  "cells": [
    {
      "cell_type": "markdown",
      "source": [
        "What is the output of the following snippet?"
      ],
      "metadata": {
        "id": "oZ148f6wqJzW"
      }
    },
    {
      "cell_type": "code",
      "execution_count": 1,
      "metadata": {
        "colab": {
          "base_uri": "https://localhost:8080/"
        },
        "id": "NbXnpZxUe96N",
        "outputId": "5b18ae4a-681a-48af-e462-c3f5761ee1bb"
      },
      "outputs": [
        {
          "output_type": "stream",
          "name": "stdout",
          "text": [
            "[1, 1, 1, 2]\n"
          ]
        }
      ],
      "source": [
        "my_list = [1, 2]\n",
        "\n",
        "for v in range(2):\n",
        "    my_list.insert(-1, my_list[v])\n",
        "\n",
        "print(my_list)"
      ]
    },
    {
      "cell_type": "markdown",
      "source": [
        "The meaning of a positional argument is determined by:\n",
        "\n",
        "ANS: its position within the argument list"
      ],
      "metadata": {
        "id": "W8u9gtrCqU8X"
      }
    },
    {
      "cell_type": "markdown",
      "source": [
        "Which of the following sentences are true about the code? (Select two answers)\n",
        "\n",
        "\n",
        "nums = [1, 2, 3]\n",
        "\n",
        "vals = nums\n",
        "\n",
        "```\n",
        "nums = [1, 2, 3]\n",
        "\n",
        "vals = nums\n",
        "```\n",
        "Ans:nums and vals are different names of the same list\n",
        "\n",
        "Ans:nums has the same length as vals\n"
      ],
      "metadata": {
        "id": "rcykY4PLqptT"
      }
    },
    {
      "cell_type": "markdown",
      "source": [
        "The following snippet:\n",
        "\n",
        "Ans:will cause a runtime error"
      ],
      "metadata": {
        "id": "CFIAvVVSrNXh"
      }
    },
    {
      "cell_type": "code",
      "source": [
        "def function_1(a):\n",
        "    return None\n",
        "\n",
        "\n",
        "def function_2(a):\n",
        "    return function_1(a) * function_1(a)\n",
        "\n",
        "\n",
        "print(function_2(2))"
      ],
      "metadata": {
        "colab": {
          "base_uri": "https://localhost:8080/",
          "height": 297
        },
        "id": "6reDX2N7f7Vi",
        "outputId": "1d4a40dd-5ac9-4dc8-a079-af80eb3b1aff"
      },
      "execution_count": 2,
      "outputs": [
        {
          "output_type": "error",
          "ename": "TypeError",
          "evalue": "unsupported operand type(s) for *: 'NoneType' and 'NoneType'",
          "traceback": [
            "\u001b[0;31m---------------------------------------------------------------------------\u001b[0m",
            "\u001b[0;31mTypeError\u001b[0m                                 Traceback (most recent call last)",
            "\u001b[0;32m<ipython-input-2-b5ea012c8eb0>\u001b[0m in \u001b[0;36m<cell line: 9>\u001b[0;34m()\u001b[0m\n\u001b[1;32m      7\u001b[0m \u001b[0;34m\u001b[0m\u001b[0m\n\u001b[1;32m      8\u001b[0m \u001b[0;34m\u001b[0m\u001b[0m\n\u001b[0;32m----> 9\u001b[0;31m \u001b[0mprint\u001b[0m\u001b[0;34m(\u001b[0m\u001b[0mfunction_2\u001b[0m\u001b[0;34m(\u001b[0m\u001b[0;36m2\u001b[0m\u001b[0;34m)\u001b[0m\u001b[0;34m)\u001b[0m\u001b[0;34m\u001b[0m\u001b[0;34m\u001b[0m\u001b[0m\n\u001b[0m",
            "\u001b[0;32m<ipython-input-2-b5ea012c8eb0>\u001b[0m in \u001b[0;36mfunction_2\u001b[0;34m(a)\u001b[0m\n\u001b[1;32m      4\u001b[0m \u001b[0;34m\u001b[0m\u001b[0m\n\u001b[1;32m      5\u001b[0m \u001b[0;32mdef\u001b[0m \u001b[0mfunction_2\u001b[0m\u001b[0;34m(\u001b[0m\u001b[0ma\u001b[0m\u001b[0;34m)\u001b[0m\u001b[0;34m:\u001b[0m\u001b[0;34m\u001b[0m\u001b[0;34m\u001b[0m\u001b[0m\n\u001b[0;32m----> 6\u001b[0;31m     \u001b[0;32mreturn\u001b[0m \u001b[0mfunction_1\u001b[0m\u001b[0;34m(\u001b[0m\u001b[0ma\u001b[0m\u001b[0;34m)\u001b[0m \u001b[0;34m*\u001b[0m \u001b[0mfunction_1\u001b[0m\u001b[0;34m(\u001b[0m\u001b[0ma\u001b[0m\u001b[0;34m)\u001b[0m\u001b[0;34m\u001b[0m\u001b[0;34m\u001b[0m\u001b[0m\n\u001b[0m\u001b[1;32m      7\u001b[0m \u001b[0;34m\u001b[0m\u001b[0m\n\u001b[1;32m      8\u001b[0m \u001b[0;34m\u001b[0m\u001b[0m\n",
            "\u001b[0;31mTypeError\u001b[0m: unsupported operand type(s) for *: 'NoneType' and 'NoneType'"
          ]
        }
      ]
    },
    {
      "cell_type": "markdown",
      "source": [
        "The result of the following division:"
      ],
      "metadata": {
        "id": "7qFabYv7rtcK"
      }
    },
    {
      "cell_type": "code",
      "source": [
        "print(1//2)"
      ],
      "metadata": {
        "colab": {
          "base_uri": "https://localhost:8080/"
        },
        "id": "o4fnwbuFgLYh",
        "outputId": "618a9549-ab58-4a4e-90f8-0642155eeb36"
      },
      "execution_count": 3,
      "outputs": [
        {
          "output_type": "stream",
          "name": "stdout",
          "text": [
            "0\n"
          ]
        }
      ]
    },
    {
      "cell_type": "markdown",
      "source": [
        "The following snippet:\n",
        "\n",
        "Ans: is erroneous"
      ],
      "metadata": {
        "id": "Q2YJ2zM8ryNP"
      }
    },
    {
      "cell_type": "code",
      "source": [
        "def func(a, b):\n",
        "    return b ** a\n",
        "\n",
        "\n",
        "print(func(b=2, 2))"
      ],
      "metadata": {
        "colab": {
          "base_uri": "https://localhost:8080/",
          "height": 106
        },
        "id": "P3VuBaK6gcqI",
        "outputId": "a365a5c0-409c-4354-ac48-82bdff1ace2f"
      },
      "execution_count": 4,
      "outputs": [
        {
          "output_type": "error",
          "ename": "SyntaxError",
          "evalue": "positional argument follows keyword argument (<ipython-input-4-968707335caa>, line 5)",
          "traceback": [
            "\u001b[0;36m  File \u001b[0;32m\"<ipython-input-4-968707335caa>\"\u001b[0;36m, line \u001b[0;32m5\u001b[0m\n\u001b[0;31m    print(func(b=2, 2))\u001b[0m\n\u001b[0m                     ^\u001b[0m\n\u001b[0;31mSyntaxError\u001b[0m\u001b[0;31m:\u001b[0m positional argument follows keyword argument\n"
          ]
        }
      ]
    },
    {
      "cell_type": "markdown",
      "source": [
        "What value will be assigned to the x variable?"
      ],
      "metadata": {
        "id": "uTmebuo-r8eG"
      }
    },
    {
      "cell_type": "code",
      "source": [
        "z = 0\n",
        "y = 10\n",
        "x = y < z and z > y or y < z and z < y\n",
        "print (x)"
      ],
      "metadata": {
        "colab": {
          "base_uri": "https://localhost:8080/"
        },
        "id": "2TEjD-EEgpJC",
        "outputId": "075ef6c7-a172-44ec-b2e5-74cad1731e24"
      },
      "execution_count": 7,
      "outputs": [
        {
          "output_type": "stream",
          "name": "stdout",
          "text": [
            "False\n"
          ]
        }
      ]
    },
    {
      "cell_type": "markdown",
      "source": [
        "Which of the following variable names are illegal and will cause the SyntaxError exception? (Select two answers)\n",
        "\n",
        "Ans: The in and for names are Python reserved words (keywords)\n"
      ],
      "metadata": {
        "id": "y3khCTIhsBv_"
      }
    },
    {
      "cell_type": "markdown",
      "source": [
        "What is the output of the following snippet?"
      ],
      "metadata": {
        "id": "zr9gfEmVsb97"
      }
    },
    {
      "cell_type": "code",
      "source": [
        "my_list = [x * x for x in range(5)]\n",
        "\n",
        "\n",
        "def fun(lst):\n",
        "    del lst[lst[2]]\n",
        "    return lst\n",
        "\n",
        "\n",
        "print(fun(my_list))"
      ],
      "metadata": {
        "colab": {
          "base_uri": "https://localhost:8080/"
        },
        "id": "aBGdpFHZhfr0",
        "outputId": "b3d9450e-7884-4d51-ee7b-1de3bac24e61"
      },
      "execution_count": 9,
      "outputs": [
        {
          "output_type": "stream",
          "name": "stdout",
          "text": [
            "[0, 1, 4, 9]\n"
          ]
        }
      ]
    },
    {
      "cell_type": "markdown",
      "source": [
        "What is the output of the following piece of code?"
      ],
      "metadata": {
        "id": "pWqLlLD7sjmY"
      }
    },
    {
      "cell_type": "code",
      "source": [
        "a = 1\n",
        "b = 0\n",
        "a = a ^ b\n",
        "b = a ^ b\n",
        "a = a ^ b\n",
        "\n",
        "print(a, b)"
      ],
      "metadata": {
        "colab": {
          "base_uri": "https://localhost:8080/"
        },
        "id": "NM68PwjlifGA",
        "outputId": "cb21ff9c-201d-4d61-c37d-146b3b7f0fe3"
      },
      "execution_count": 10,
      "outputs": [
        {
          "output_type": "stream",
          "name": "stdout",
          "text": [
            "0 1\n"
          ]
        }
      ]
    },
    {
      "cell_type": "markdown",
      "source": [
        "What is the output of the following piece of code?\n",
        "\n",
        "ans:2"
      ],
      "metadata": {
        "id": "bHiQsCxxsrG2"
      }
    },
    {
      "cell_type": "code",
      "source": [
        "def fun(x):\n",
        "    if x % 2 == 0:\n",
        "        return 1\n",
        "    else:\n",
        "        return 2\n",
        "\n",
        "\n",
        "print(fun(fun(2)))\n",
        "\n"
      ],
      "metadata": {
        "colab": {
          "base_uri": "https://localhost:8080/"
        },
        "id": "sky_rRMsioH9",
        "outputId": "bdc9fb55-88e3-4e4e-e89a-b34516643442"
      },
      "execution_count": 11,
      "outputs": [
        {
          "output_type": "stream",
          "name": "stdout",
          "text": [
            "2\n"
          ]
        }
      ]
    },
    {
      "cell_type": "markdown",
      "source": [
        "Take a look at the snippet and choose the true statement:\n",
        "\n",
        "ans: nums and vals have the same length"
      ],
      "metadata": {
        "id": "2ILGjRJuszeP"
      }
    },
    {
      "cell_type": "code",
      "source": [
        "nums = [1, 2, 3]\n",
        "vals = nums\n",
        "del vals[:]\n",
        "print(vals)\n",
        "print(nums)"
      ],
      "metadata": {
        "colab": {
          "base_uri": "https://localhost:8080/"
        },
        "id": "PqVxwH1kizZ6",
        "outputId": "612079df-d0f3-4e6b-c07a-f62b5e849b67"
      },
      "execution_count": 13,
      "outputs": [
        {
          "output_type": "stream",
          "name": "stdout",
          "text": [
            "[]\n",
            "[]\n"
          ]
        }
      ]
    },
    {
      "cell_type": "markdown",
      "source": [
        "What is the output of the following piece of code if the user enters two lines containing 3 and 2 respectively?\n",
        "\n",
        "ans:0"
      ],
      "metadata": {
        "id": "oeXzN4YFs_P1"
      }
    },
    {
      "cell_type": "code",
      "source": [
        "x = int(input())\n",
        "y = int(input())\n",
        "x = x % y\n",
        "x = x % y\n",
        "y = y % x\n",
        "print(y)\n",
        "\n"
      ],
      "metadata": {
        "colab": {
          "base_uri": "https://localhost:8080/"
        },
        "id": "iaEtJOdFjLbh",
        "outputId": "6b594f46-8576-492e-9ecd-0606446053d6"
      },
      "execution_count": 14,
      "outputs": [
        {
          "output_type": "stream",
          "name": "stdout",
          "text": [
            "3\n",
            "2\n",
            "0\n"
          ]
        }
      ]
    },
    {
      "cell_type": "markdown",
      "source": [
        "What is the output of the following piece of code if the user enters two lines containing 3 and 6 respectively?\n",
        "\n",
        "ans:63"
      ],
      "metadata": {
        "id": "apsDzyo0tGPy"
      }
    },
    {
      "cell_type": "code",
      "source": [
        "y = input()\n",
        "x = input()\n",
        "print(x + y)\n",
        "\n"
      ],
      "metadata": {
        "colab": {
          "base_uri": "https://localhost:8080/"
        },
        "id": "GYDYLrnPjXiu",
        "outputId": "1feb7a8a-b5cb-4ba9-9553-2368870b94e5"
      },
      "execution_count": 15,
      "outputs": [
        {
          "output_type": "stream",
          "name": "stdout",
          "text": [
            "3\n",
            "6\n",
            "63\n"
          ]
        }
      ]
    },
    {
      "cell_type": "markdown",
      "source": [
        "What is the output of the following piece of code?\n",
        "\n",
        "ans:asepbsepc"
      ],
      "metadata": {
        "id": "cLjM1JY1tOIy"
      }
    },
    {
      "cell_type": "code",
      "source": [
        "print(\"a\", \"b\", \"c\", sep=\"sep\")"
      ],
      "metadata": {
        "colab": {
          "base_uri": "https://localhost:8080/"
        },
        "id": "PX1gfSk5jpbi",
        "outputId": "56d65e04-1660-4698-e1b8-89d61b784cdd"
      },
      "execution_count": 16,
      "outputs": [
        {
          "output_type": "stream",
          "name": "stdout",
          "text": [
            "asepbsepc\n"
          ]
        }
      ]
    },
    {
      "cell_type": "markdown",
      "source": [
        "What is the output of the following piece of code?\n",
        "\n",
        "ans: 0.2"
      ],
      "metadata": {
        "id": "FGBUpdu5tU6a"
      }
    },
    {
      "cell_type": "code",
      "source": [
        "x = 1 // 5 + 1 / 5\n",
        "print(x)\n",
        "\n"
      ],
      "metadata": {
        "colab": {
          "base_uri": "https://localhost:8080/"
        },
        "id": "Lf7BTn0wkUwz",
        "outputId": "ac6a7be8-eea1-4182-bf7d-a49d263d49a4"
      },
      "execution_count": 17,
      "outputs": [
        {
          "output_type": "stream",
          "name": "stdout",
          "text": [
            "0.2\n"
          ]
        }
      ]
    },
    {
      "cell_type": "markdown",
      "source": [
        "Assuming that my_tuple is a correctly created tuple, the fact that tuples are immutable means that the following instruction:\n",
        "\n",
        "```\n",
        "my_tuple[1] = my_tuple[1] + my_tuple[0]\n",
        "\n",
        "\n",
        "```\n",
        "ans: is illegal\n",
        "\n"
      ],
      "metadata": {
        "id": "8CPJmH5Eta5_"
      }
    },
    {
      "cell_type": "markdown",
      "source": [
        "What is the output of the following piece of code if the user enters two lines containing 2 and 4 respectively?\n",
        "\n",
        "\n",
        "ans : 2.0"
      ],
      "metadata": {
        "id": "7oy3WdcBtsZo"
      }
    },
    {
      "cell_type": "code",
      "source": [
        "x = float(input())\n",
        "y = float(input())\n",
        "print(y ** (1 / x))\n",
        "\n"
      ],
      "metadata": {
        "colab": {
          "base_uri": "https://localhost:8080/"
        },
        "id": "EKMhdtT0koaP",
        "outputId": "0ccb4b77-952b-485d-f7ad-740189d14621"
      },
      "execution_count": 18,
      "outputs": [
        {
          "output_type": "stream",
          "name": "stdout",
          "text": [
            "2\n",
            "4\n",
            "2.0\n"
          ]
        }
      ]
    },
    {
      "cell_type": "markdown",
      "source": [
        "What is the output of the following snippet?\n",
        "\n",
        "ans: one"
      ],
      "metadata": {
        "id": "8xRifmfnt4kB"
      }
    },
    {
      "cell_type": "code",
      "source": [
        "dct = {'one': 'two', 'three': 'one', 'two': 'three'}\n",
        "v = dct['three']\n",
        "\n",
        "for k in range(len(dct)):\n",
        "    v = dct[v]\n",
        "\n",
        "print(v)\n",
        "\n"
      ],
      "metadata": {
        "colab": {
          "base_uri": "https://localhost:8080/"
        },
        "id": "zrYBfs7rkzWL",
        "outputId": "d0db88d3-526d-4d8e-9367-1c2de5f17d74"
      },
      "execution_count": 19,
      "outputs": [
        {
          "output_type": "stream",
          "name": "stdout",
          "text": [
            "one\n"
          ]
        }
      ]
    },
    {
      "cell_type": "markdown",
      "source": [
        "How many elements does the lst list contain?\n",
        "\n",
        "\n",
        "```\n",
        "lst = [i for i in range(-1, -2)]\n",
        "\n",
        "\n",
        "```\n",
        "ans: zero\n"
      ],
      "metadata": {
        "id": "oGTjKtBHt-BU"
      }
    },
    {
      "cell_type": "markdown",
      "source": [
        "Which of the following lines correctly invoke the function defined below? (Select two answers)\n",
        "\n",
        "ans: fun(b=0, a=0)\n",
        "\n",
        "ans: fun(0, 1, 2)"
      ],
      "metadata": {
        "id": "zODlglnIuYW-"
      }
    },
    {
      "cell_type": "code",
      "source": [
        "def fun(a, b, c=0):\n",
        "    return a,b,c# Body of the function.\n",
        "fun(b=0, a=0)\n",
        "fun(0, 1, 2)"
      ],
      "metadata": {
        "colab": {
          "base_uri": "https://localhost:8080/"
        },
        "id": "aWZ3Wdn9k9ic",
        "outputId": "3ac00815-b92f-4bf6-c62b-dc2fcfa6fb99"
      },
      "execution_count": 34,
      "outputs": [
        {
          "output_type": "execute_result",
          "data": {
            "text/plain": [
              "(0, 1, 2)"
            ]
          },
          "metadata": {},
          "execution_count": 34
        }
      ]
    },
    {
      "cell_type": "markdown",
      "source": [
        "What is the output of the following snippet?\n",
        "\n",
        "ans:0"
      ],
      "metadata": {
        "id": "J2MBwp3Zu-CU"
      }
    },
    {
      "cell_type": "code",
      "source": [
        "def fun(x, y):\n",
        "    if x == y:\n",
        "        return x\n",
        "    else:\n",
        "        return fun(x, y-1)\n",
        "\n",
        "\n",
        "print(fun(0, 3))\n",
        "\n"
      ],
      "metadata": {
        "colab": {
          "base_uri": "https://localhost:8080/"
        },
        "id": "8wR4FNUvmoM7",
        "outputId": "8b5e2963-7fcc-4b1f-b0b6-8b8ac00a8694"
      },
      "execution_count": 23,
      "outputs": [
        {
          "output_type": "stream",
          "name": "stdout",
          "text": [
            "0\n"
          ]
        }
      ]
    },
    {
      "cell_type": "markdown",
      "source": [
        "How many stars (*) will the following snippet send to the console?\n",
        "\n",
        "ans:the snippet will enter an infinite loop, printing one star per line"
      ],
      "metadata": {
        "id": "yVJIPXq4vGj1"
      }
    },
    {
      "cell_type": "code",
      "source": [
        "i = 0\n",
        "while i < i + 2 :\n",
        "    i += 1\n",
        "    print(\"*\")\n",
        "else:\n",
        "    print(\"*\")\n",
        "\n"
      ],
      "metadata": {
        "collapsed": true,
        "id": "jy4QnSO7mvSm"
      },
      "execution_count": null,
      "outputs": []
    },
    {
      "cell_type": "markdown",
      "source": [
        "What is the output of the following snippet?\n",
        "\n",
        "ans:4"
      ],
      "metadata": {
        "id": "UChBso5ovPVl"
      }
    },
    {
      "cell_type": "code",
      "source": [
        "tup = (1, 2, 4, 8)\n",
        "tup = tup[-2:-1]\n",
        "tup = tup[-1]\n",
        "print(tup)\n",
        "\n"
      ],
      "metadata": {
        "colab": {
          "base_uri": "https://localhost:8080/"
        },
        "id": "q9WoW6FQnDRE",
        "outputId": "444c221c-7b9b-4257-ca03-d43ebf80bb4e"
      },
      "execution_count": 25,
      "outputs": [
        {
          "output_type": "stream",
          "name": "stdout",
          "text": [
            "4\n"
          ]
        }
      ]
    },
    {
      "cell_type": "markdown",
      "source": [
        "What is the output of the following snippet?\n",
        "\n",
        "ans:the code is erroneous (the dict object has no vals() method)"
      ],
      "metadata": {
        "id": "O_VkicJBvcDR"
      }
    },
    {
      "cell_type": "code",
      "source": [
        "dd = {\"1\": \"0\", \"0\": \"1\"}\n",
        "for x in dd.vals():\n",
        "    print(x, end=\"\")\n",
        "\n"
      ],
      "metadata": {
        "colab": {
          "base_uri": "https://localhost:8080/",
          "height": 193
        },
        "id": "rAB9bFvvnQgP",
        "outputId": "7ee28078-63fb-47f7-98c1-96b5e9586620"
      },
      "execution_count": 26,
      "outputs": [
        {
          "output_type": "error",
          "ename": "AttributeError",
          "evalue": "'dict' object has no attribute 'vals'",
          "traceback": [
            "\u001b[0;31m---------------------------------------------------------------------------\u001b[0m",
            "\u001b[0;31mAttributeError\u001b[0m                            Traceback (most recent call last)",
            "\u001b[0;32m<ipython-input-26-9fdeaaf1e224>\u001b[0m in \u001b[0;36m<cell line: 2>\u001b[0;34m()\u001b[0m\n\u001b[1;32m      1\u001b[0m \u001b[0mdd\u001b[0m \u001b[0;34m=\u001b[0m \u001b[0;34m{\u001b[0m\u001b[0;34m\"1\"\u001b[0m\u001b[0;34m:\u001b[0m \u001b[0;34m\"0\"\u001b[0m\u001b[0;34m,\u001b[0m \u001b[0;34m\"0\"\u001b[0m\u001b[0;34m:\u001b[0m \u001b[0;34m\"1\"\u001b[0m\u001b[0;34m}\u001b[0m\u001b[0;34m\u001b[0m\u001b[0;34m\u001b[0m\u001b[0m\n\u001b[0;32m----> 2\u001b[0;31m \u001b[0;32mfor\u001b[0m \u001b[0mx\u001b[0m \u001b[0;32min\u001b[0m \u001b[0mdd\u001b[0m\u001b[0;34m.\u001b[0m\u001b[0mvals\u001b[0m\u001b[0;34m(\u001b[0m\u001b[0;34m)\u001b[0m\u001b[0;34m:\u001b[0m\u001b[0;34m\u001b[0m\u001b[0;34m\u001b[0m\u001b[0m\n\u001b[0m\u001b[1;32m      3\u001b[0m     \u001b[0mprint\u001b[0m\u001b[0;34m(\u001b[0m\u001b[0mx\u001b[0m\u001b[0;34m,\u001b[0m \u001b[0mend\u001b[0m\u001b[0;34m=\u001b[0m\u001b[0;34m\"\"\u001b[0m\u001b[0;34m)\u001b[0m\u001b[0;34m\u001b[0m\u001b[0;34m\u001b[0m\u001b[0m\n\u001b[1;32m      4\u001b[0m \u001b[0;34m\u001b[0m\u001b[0m\n",
            "\u001b[0;31mAttributeError\u001b[0m: 'dict' object has no attribute 'vals'"
          ]
        }
      ]
    },
    {
      "cell_type": "markdown",
      "source": [
        "What is the output of the following snippet?\n",
        "\n",
        "ans:21"
      ],
      "metadata": {
        "id": "y3YWjm6EvkQJ"
      }
    },
    {
      "cell_type": "code",
      "source": [
        "dct = {}\n",
        "dct['1'] = (1, 2)\n",
        "dct['2'] = (2, 1)\n",
        "\n",
        "for x in dct.keys():\n",
        "    print(dct[x][1], end=\"\")\n",
        "\n"
      ],
      "metadata": {
        "colab": {
          "base_uri": "https://localhost:8080/"
        },
        "id": "SLreewNcn14D",
        "outputId": "a8107664-214b-4714-e092-6314eab44f69"
      },
      "execution_count": 28,
      "outputs": [
        {
          "output_type": "stream",
          "name": "stdout",
          "text": [
            "21"
          ]
        }
      ]
    },
    {
      "cell_type": "markdown",
      "source": [
        "What is the output of the following snippet?\n",
        "\n",
        "ans:4"
      ],
      "metadata": {
        "id": "DWfJ91-QvyNw"
      }
    },
    {
      "cell_type": "code",
      "source": [
        "def fun(inp=2, out=3):\n",
        "    return inp * out\n",
        "\n",
        "\n",
        "print(fun(out=2))\n",
        "\n"
      ],
      "metadata": {
        "colab": {
          "base_uri": "https://localhost:8080/"
        },
        "id": "fLD-4l4coAGl",
        "outputId": "8ebdcbb2-0215-4689-c393-a98a22fd0c60"
      },
      "execution_count": 29,
      "outputs": [
        {
          "output_type": "stream",
          "name": "stdout",
          "text": [
            "4\n"
          ]
        }
      ]
    },
    {
      "cell_type": "markdown",
      "source": [
        "How many hashes (#) will the following snippet send to the console?\n",
        "\n",
        "ans:three"
      ],
      "metadata": {
        "id": "syiBuf5OwBnA"
      }
    },
    {
      "cell_type": "code",
      "source": [
        "lst = [[x for x in range(3)] for y in range(3)]\n",
        "\n",
        "for r in range(3):\n",
        "    for c in range(3):\n",
        "        if lst[r][c] % 2 != 0:\n",
        "            print(\"#\")\n",
        "\n"
      ],
      "metadata": {
        "colab": {
          "base_uri": "https://localhost:8080/"
        },
        "id": "Cme4o9FYoOsV",
        "outputId": "65a4d7b5-d09d-459c-efea-34d256167d1a"
      },
      "execution_count": 30,
      "outputs": [
        {
          "output_type": "stream",
          "name": "stdout",
          "text": [
            "#\n",
            "#\n",
            "#\n"
          ]
        }
      ]
    },
    {
      "cell_type": "markdown",
      "source": [
        "What is the output of the following code if the user enters a 0?\n",
        "\n",
        "ans:0.0"
      ],
      "metadata": {
        "id": "YLo2ciaMwKF4"
      }
    },
    {
      "cell_type": "code",
      "source": [
        "try:\n",
        "    value = input(\"Enter a value: \")\n",
        "    print(int(value)/len(value))\n",
        "except ValueError:\n",
        "    print(\"Bad input...\")\n",
        "except ZeroDivisionError:\n",
        "    print(\"Very bad input...\")\n",
        "except TypeError:\n",
        "    print(\"Very very bad input...\")\n",
        "except:\n",
        "    print(\"Booo!\")\n",
        "\n"
      ],
      "metadata": {
        "colab": {
          "base_uri": "https://localhost:8080/"
        },
        "id": "NMdZRcArod9u",
        "outputId": "9665ef84-d4c7-49d6-8684-2ad65909182a"
      },
      "execution_count": 31,
      "outputs": [
        {
          "output_type": "stream",
          "name": "stdout",
          "text": [
            "Enter a value: 0\n",
            "0.0\n"
          ]
        }
      ]
    },
    {
      "cell_type": "markdown",
      "source": [
        "What is the expected behavior of the following program?\n",
        "\n",
        "```\n",
        "try:\n",
        "    print(5/0)\n",
        "    break\n",
        "except:\n",
        "    print(\"Sorry, something went wrong...\")\n",
        "except (ValueError, ZeroDivisionError):\n",
        "    print(\"Too bad...\")\n",
        "```\n",
        "ans:The program will cause a SyntaxError exception.\n"
      ],
      "metadata": {
        "id": "DCdj5ZspwuY1"
      }
    },
    {
      "cell_type": "markdown",
      "source": [
        "What is the expected behavior of the following program?\n",
        "\n",
        "ans:The program will cause a ValueError exception."
      ],
      "metadata": {
        "id": "QEcJpVY5wVc9"
      }
    },
    {
      "cell_type": "code",
      "source": [
        "foo = (1, 2, 3)\n",
        "foo.index(0)\n",
        "\n"
      ],
      "metadata": {
        "colab": {
          "base_uri": "https://localhost:8080/",
          "height": 176
        },
        "id": "WIUZVFxao1-X",
        "outputId": "96eba818-f0bf-417e-95a1-4748246693d1"
      },
      "execution_count": 32,
      "outputs": [
        {
          "output_type": "error",
          "ename": "ValueError",
          "evalue": "tuple.index(x): x not in tuple",
          "traceback": [
            "\u001b[0;31m---------------------------------------------------------------------------\u001b[0m",
            "\u001b[0;31mValueError\u001b[0m                                Traceback (most recent call last)",
            "\u001b[0;32m<ipython-input-32-44f3a7e3d708>\u001b[0m in \u001b[0;36m<cell line: 2>\u001b[0;34m()\u001b[0m\n\u001b[1;32m      1\u001b[0m \u001b[0mfoo\u001b[0m \u001b[0;34m=\u001b[0m \u001b[0;34m(\u001b[0m\u001b[0;36m1\u001b[0m\u001b[0;34m,\u001b[0m \u001b[0;36m2\u001b[0m\u001b[0;34m,\u001b[0m \u001b[0;36m3\u001b[0m\u001b[0;34m)\u001b[0m\u001b[0;34m\u001b[0m\u001b[0;34m\u001b[0m\u001b[0m\n\u001b[0;32m----> 2\u001b[0;31m \u001b[0mfoo\u001b[0m\u001b[0;34m.\u001b[0m\u001b[0mindex\u001b[0m\u001b[0;34m(\u001b[0m\u001b[0;36m0\u001b[0m\u001b[0;34m)\u001b[0m\u001b[0;34m\u001b[0m\u001b[0;34m\u001b[0m\u001b[0m\n\u001b[0m\u001b[1;32m      3\u001b[0m \u001b[0;34m\u001b[0m\u001b[0m\n",
            "\u001b[0;31mValueError\u001b[0m: tuple.index(x): x not in tuple"
          ]
        }
      ]
    },
    {
      "cell_type": "markdown",
      "source": [
        "Which of the following snippets shows the correct way of handling multiple exceptions in a single except clause?\n",
        "\n",
        "ans:A only\n",
        "\n",
        "\n",
        "```\n",
        "except (TypeError, ValueError, ZeroDivisionError):\n",
        "    # Some code.\n",
        "```\n",
        "\n"
      ],
      "metadata": {
        "id": "wJI0uA8cxHYH"
      }
    },
    {
      "cell_type": "markdown",
      "source": [
        "What will happen when you attempt to run the following code?\n",
        "\n",
        "ans: The code will raise the SyntaxError exception."
      ],
      "metadata": {
        "id": "IbSYBD70xbeb"
      }
    },
    {
      "cell_type": "code",
      "source": [
        "print(Hello, World!)\n",
        "\n"
      ],
      "metadata": {
        "colab": {
          "base_uri": "https://localhost:8080/",
          "height": 106
        },
        "id": "5WeDBVHUprju",
        "outputId": "06f40768-515e-4bbf-da06-85c998c546c8"
      },
      "execution_count": 33,
      "outputs": [
        {
          "output_type": "error",
          "ename": "SyntaxError",
          "evalue": "invalid syntax (<ipython-input-33-61cfaa8ab997>, line 1)",
          "traceback": [
            "\u001b[0;36m  File \u001b[0;32m\"<ipython-input-33-61cfaa8ab997>\"\u001b[0;36m, line \u001b[0;32m1\u001b[0m\n\u001b[0;31m    print(Hello, World!)\u001b[0m\n\u001b[0m                      ^\u001b[0m\n\u001b[0;31mSyntaxError\u001b[0m\u001b[0;31m:\u001b[0m invalid syntax\n"
          ]
        }
      ]
    }
  ]
}